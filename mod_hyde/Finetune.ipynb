{
 "cells": [
  {
   "cell_type": "markdown",
   "metadata": {},
   "source": [
    "## DATA"
   ]
  },
  {
   "cell_type": "code",
   "execution_count": 9,
   "metadata": {},
   "outputs": [],
   "source": [
    "with open(\"data/all_book_data.txt\") as f:\n",
    "    book_data = f.read()"
   ]
  },
  {
   "cell_type": "code",
   "execution_count": 36,
   "metadata": {},
   "outputs": [],
   "source": [
    "from langchain_text_splitters import RecursiveCharacterTextSplitter\n",
    "\n",
    "text_splitter = RecursiveCharacterTextSplitter(\n",
    "    # Set a really small chunk size, just to show.\n",
    "    chunk_size=5000,\n",
    "    chunk_overlap=100,\n",
    "    length_function=len,\n",
    "    is_separator_regex=False,\n",
    ")"
   ]
  },
  {
   "cell_type": "code",
   "execution_count": 37,
   "metadata": {},
   "outputs": [],
   "source": [
    "# text_splitter.split_text(book_data)\n",
    "splitted_books_data = text_splitter.split_text(book_data)"
   ]
  },
  {
   "cell_type": "code",
   "execution_count": 43,
   "metadata": {},
   "outputs": [],
   "source": [
    "import nltk\n",
    "num_words = [len(nltk.word_tokenize(txt)) for txt in splitted_books_data]"
   ]
  },
  {
   "cell_type": "code",
   "execution_count": 45,
   "metadata": {},
   "outputs": [
    {
     "data": {
      "text/plain": [
       "(1158, 435)"
      ]
     },
     "execution_count": 45,
     "metadata": {},
     "output_type": "execute_result"
    }
   ],
   "source": [
    "max(num_words),min(num_words)"
   ]
  },
  {
   "cell_type": "code",
   "execution_count": 55,
   "metadata": {},
   "outputs": [],
   "source": [
    "def chunk_transcripts(json_data, chunk_size):\n",
    "    all_chunks = {}\n",
    "\n",
    "    for key, data in json_data.items():\n",
    "        transcript_chunks = []\n",
    "        current_chunk_text = \"\"\n",
    "        current_chunk_start_time = None\n",
    "        word_count = 0\n",
    "\n",
    "        for item in data:\n",
    "            text = item['text']\n",
    "            start_time = item['start']\n",
    "\n",
    "            words = text.split()\n",
    "\n",
    "            if word_count + len(words) <= chunk_size:\n",
    "                current_chunk_text += \" \" + text\n",
    "                word_count += len(words)\n",
    "                if current_chunk_start_time is None:\n",
    "                    current_chunk_start_time = start_time\n",
    "            else:\n",
    "                transcript_chunks.append({'text': current_chunk_text.strip(), 'start_time': current_chunk_start_time})\n",
    "                current_chunk_text = text\n",
    "                current_chunk_start_time = start_time\n",
    "                word_count = len(words)\n",
    "\n",
    "        if current_chunk_text:\n",
    "            transcript_chunks.append({'text': current_chunk_text, 'start_time': current_chunk_start_time})\n",
    "\n",
    "        all_chunks[key] = transcript_chunks\n",
    "\n",
    "    return all_chunks"
   ]
  },
  {
   "cell_type": "code",
   "execution_count": 56,
   "metadata": {},
   "outputs": [],
   "source": [
    "import json\n",
    "\n",
    "with open('data/misc_transcripts.json', 'r') as f:\n",
    "    data = json.load(f)"
   ]
  },
  {
   "cell_type": "code",
   "execution_count": 68,
   "metadata": {},
   "outputs": [],
   "source": [
    "import glob\n",
    "import json\n",
    "directory_path = 'data'  # Update this to your directory\n",
    "json_pattern = '*.json'\n",
    "json_files = glob.glob(f\"data/chunked_*.json\")\n",
    "\n",
    "transcripts_text = []\n",
    "\n",
    "for jf in json_files:\n",
    "    with open(f'{jf}', 'r') as f:\n",
    "        data = json.load(f)\n",
    "    for youtube_id,texts in data.items():\n",
    "        for text in texts:\n",
    "            curr_text = text['text']\n",
    "            if len(curr_text.split()) <=100: continue\n",
    "            transcripts_text.append(curr_text)"
   ]
  },
  {
   "cell_type": "code",
   "execution_count": 3,
   "metadata": {},
   "outputs": [
    {
     "name": "stderr",
     "output_type": "stream",
     "text": [
      "Failed to detect the name of this notebook, you can set it manually with the WANDB_NOTEBOOK_NAME environment variable to enable code saving.\n"
     ]
    },
    {
     "name": "stderr",
     "output_type": "stream",
     "text": [
      "\u001b[34m\u001b[1mwandb\u001b[0m: Logging into wandb.ai. (Learn how to deploy a W&B server locally: https://wandb.me/wandb-server)\n",
      "\u001b[34m\u001b[1mwandb\u001b[0m: You can find your API key in your browser here: https://wandb.ai/authorize\n",
      "\u001b[34m\u001b[1mwandb\u001b[0m: Paste an API key from your profile and hit enter, or press ctrl+c to quit:\u001b[34m\u001b[1mwandb\u001b[0m: Paste an API key from your profile and hit enter, or press ctrl+c to quit:\u001b[34m\u001b[1mwandb\u001b[0m: Appending key for api.wandb.ai to your netrc file: /home/athekunal/.netrc\n"
     ]
    },
    {
     "data": {
      "text/html": [
       "wandb version 0.17.4 is available!  To upgrade, please run:\n",
       " $ pip install wandb --upgrade"
      ],
      "text/plain": [
       "<IPython.core.display.HTML object>"
      ]
     },
     "metadata": {},
     "output_type": "display_data"
    },
    {
     "data": {
      "text/html": [
       "Tracking run with wandb version 0.17.3"
      ],
      "text/plain": [
       "<IPython.core.display.HTML object>"
      ]
     },
     "metadata": {},
     "output_type": "display_data"
    },
    {
     "data": {
      "text/html": [
       "Run data is saved locally in <code>/home/athekunal/MLOPs-Mod-HyDE/MLOPs-MOD-HyDE/mod_hyde/wandb/run-20240705_020659-13ghkc6u</code>"
      ],
      "text/plain": [
       "<IPython.core.display.HTML object>"
      ]
     },
     "metadata": {},
     "output_type": "display_data"
    },
    {
     "data": {
      "text/html": [
       "Syncing run <strong><a href='https://wandb.ai/WGQA_T5/MLOPs-MOD-HyDE-mod_hyde/runs/13ghkc6u' target=\"_blank\">usual-fire-1</a></strong> to <a href='https://wandb.ai/WGQA_T5/MLOPs-MOD-HyDE-mod_hyde' target=\"_blank\">Weights & Biases</a> (<a href='https://wandb.me/run' target=\"_blank\">docs</a>)<br/>"
      ],
      "text/plain": [
       "<IPython.core.display.HTML object>"
      ]
     },
     "metadata": {},
     "output_type": "display_data"
    },
    {
     "data": {
      "text/html": [
       " View project at <a href='https://wandb.ai/WGQA_T5/MLOPs-MOD-HyDE-mod_hyde' target=\"_blank\">https://wandb.ai/WGQA_T5/MLOPs-MOD-HyDE-mod_hyde</a>"
      ],
      "text/plain": [
       "<IPython.core.display.HTML object>"
      ]
     },
     "metadata": {},
     "output_type": "display_data"
    },
    {
     "data": {
      "text/html": [
       " View run at <a href='https://wandb.ai/WGQA_T5/MLOPs-MOD-HyDE-mod_hyde/runs/13ghkc6u' target=\"_blank\">https://wandb.ai/WGQA_T5/MLOPs-MOD-HyDE-mod_hyde/runs/13ghkc6u</a>"
      ],
      "text/plain": [
       "<IPython.core.display.HTML object>"
      ]
     },
     "metadata": {},
     "output_type": "display_data"
    },
    {
     "name": "stderr",
     "output_type": "stream",
     "text": [
      "\u001b[34m\u001b[1mwandb\u001b[0m: Downloading large artifact Modified HyDE model collection:v0, 937.51MB. 8 files... \n",
      "\u001b[34m\u001b[1mwandb\u001b[0m:   8 of 8 files downloaded.  \n",
      "Done. 0:0:17.4\n"
     ]
    }
   ],
   "source": [
    "import wandb\n",
    "from dotenv import load_dotenv,find_dotenv\n",
    "import os\n",
    "\n",
    "load_dotenv(find_dotenv(),override=True)\n",
    "run = wandb.init()\n",
    "artifact = run.use_artifact('WGQA_T5/model-registry/Modified HyDE model collection:v0', type='model')\n",
    "artifact_dir = artifact.download()"
   ]
  },
  {
   "cell_type": "code",
   "execution_count": 6,
   "metadata": {},
   "outputs": [],
   "source": [
    "from transformers import AutoTokenizer, pipeline\n",
    "\n",
    "tokenizer = AutoTokenizer.from_pretrained(\"distilbert/distilgpt2\")\n",
    "\n",
    "pipe = pipeline(\"text-generation\", model=\"artifacts/checkpoint-xm04zxnt:v8\",tokenizer=tokenizer)"
   ]
  },
  {
   "cell_type": "code",
   "execution_count": 7,
   "metadata": {},
   "outputs": [],
   "source": [
    "def get_mod_HyDE_answer(question):\n",
    "    out = pipe(question,max_new_tokens=300,do_sample=True,min_new_tokens=10)\n",
    "    return out[0]['generated_text']"
   ]
  },
  {
   "cell_type": "code",
   "execution_count": 8,
   "metadata": {},
   "outputs": [
    {
     "name": "stderr",
     "output_type": "stream",
     "text": [
      "Setting `pad_token_id` to `eos_token_id`:50256 for open-end generation.\n"
     ]
    },
    {
     "data": {
      "text/plain": [
       "\"What is valuation? \\xa0 \\xa0 \\xa0 \\xa0\\xa0 What you need to know are three dimensions, each is the most obvious you can find. \\xa0 \\xa0\\xa0 Do we need a value per se that affects other people? Are there two dimensions, one is that people value each other, and the other is that they value each other's life cycle, because that can change over time.If the answer on a life cycle cannot be answered, would this be the question that comes up again when analyzing the world? Would the answer be the one that determines what is a life cycle? Are there multiple dimensions when estimating a life cycle? The first can be described as looking at people with different lives and not the same person. Two of the most important dimensions are your life cycle, where you decide what is the one you value right versus the one that you think changes your life cycle and how it affects your business prospects. The second dimension is your life cycle, where you decide how the world will change if you get bored with the fact that there will be no such person on your life cycle. The third dimension is your life cycle, and is the life cycle that determines the future that you will create for your future business. If nothing else, there will be a life cycle that decides your future business, and that determines whether your future value will move into the future. In this chapter, we describe some of the key dimensions of life cycle. The first is what you should measure to assess whether you should value a firm\""
      ]
     },
     "execution_count": 8,
     "metadata": {},
     "output_type": "execute_result"
    }
   ],
   "source": [
    "get_mod_HyDE_answer(\"What is valuation? \")"
   ]
  },
  {
   "cell_type": "code",
   "execution_count": 9,
   "metadata": {},
   "outputs": [
    {
     "name": "stderr",
     "output_type": "stream",
     "text": [
      "Setting `pad_token_id` to `eos_token_id`:50256 for open-end generation.\n"
     ]
    },
    {
     "data": {
      "text/plain": [
       "\"What is valuation ive no way to answer it and no way of giving you feedback about pricing so you come up with a way to estimate the value of an asset and estimate what is the price to book it's basically going to be that you will get a valuation for something right so with my approach I start with price to book and I'm going to say I'll value an asset not only because of its historical value but because an asset is priced based upon data so I'm going to let you be clear what you're trying to do but you're going to be looking at different ways of estimating prices and I'm going to let you be clear on your value but I will start with a pricing model because the best way to come up with pricing models is to say to value an asset or you know where each of these models comes from what you might call valuation models that look like you think that's boring but it might be a good way to value an asset but that was all I wanted you not to value an asset and think of pricing model you don't value an asset because you're not going to get a much better way of valuing an asset because you're not looking at a lot but there's a number of different ways in which you can go from the one I'm going to describe how I can value an asset to my value in terms of a pricing model you could call it what is the value of an asset and why why do I need to build a model for value it's because there's\""
      ]
     },
     "execution_count": 9,
     "metadata": {},
     "output_type": "execute_result"
    }
   ],
   "source": [
    "get_mod_HyDE_answer(\"What is valuation \")"
   ]
  },
  {
   "cell_type": "code",
   "execution_count": null,
   "metadata": {},
   "outputs": [],
   "source": []
  }
 ],
 "metadata": {
  "kernelspec": {
   "display_name": "Python 3",
   "language": "python",
   "name": "python3"
  },
  "language_info": {
   "codemirror_mode": {
    "name": "ipython",
    "version": 3
   },
   "file_extension": ".py",
   "mimetype": "text/x-python",
   "name": "python",
   "nbconvert_exporter": "python",
   "pygments_lexer": "ipython3",
   "version": "3.10.12"
  }
 },
 "nbformat": 4,
 "nbformat_minor": 2
}
