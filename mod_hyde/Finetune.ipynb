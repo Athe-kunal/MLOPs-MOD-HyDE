{
 "cells": [
  {
   "cell_type": "markdown",
   "metadata": {},
   "source": [
    "## DATA"
   ]
  },
  {
   "cell_type": "code",
   "execution_count": 9,
   "metadata": {},
   "outputs": [],
   "source": [
    "with open(\"data/all_book_data.txt\") as f:\n",
    "    book_data = f.read()"
   ]
  },
  {
   "cell_type": "code",
   "execution_count": 36,
   "metadata": {},
   "outputs": [],
   "source": [
    "from langchain_text_splitters import RecursiveCharacterTextSplitter\n",
    "\n",
    "text_splitter = RecursiveCharacterTextSplitter(\n",
    "    # Set a really small chunk size, just to show.\n",
    "    chunk_size=5000,\n",
    "    chunk_overlap=100,\n",
    "    length_function=len,\n",
    "    is_separator_regex=False,\n",
    ")"
   ]
  },
  {
   "cell_type": "code",
   "execution_count": 37,
   "metadata": {},
   "outputs": [],
   "source": [
    "# text_splitter.split_text(book_data)\n",
    "splitted_books_data = text_splitter.split_text(book_data)"
   ]
  },
  {
   "cell_type": "code",
   "execution_count": 43,
   "metadata": {},
   "outputs": [],
   "source": [
    "import nltk\n",
    "num_words = [len(nltk.word_tokenize(txt)) for txt in splitted_books_data]"
   ]
  },
  {
   "cell_type": "code",
   "execution_count": 45,
   "metadata": {},
   "outputs": [
    {
     "data": {
      "text/plain": [
       "(1158, 435)"
      ]
     },
     "execution_count": 45,
     "metadata": {},
     "output_type": "execute_result"
    }
   ],
   "source": [
    "max(num_words),min(num_words)"
   ]
  },
  {
   "cell_type": "code",
   "execution_count": 55,
   "metadata": {},
   "outputs": [],
   "source": [
    "def chunk_transcripts(json_data, chunk_size):\n",
    "    all_chunks = {}\n",
    "\n",
    "    for key, data in json_data.items():\n",
    "        transcript_chunks = []\n",
    "        current_chunk_text = \"\"\n",
    "        current_chunk_start_time = None\n",
    "        word_count = 0\n",
    "\n",
    "        for item in data:\n",
    "            text = item['text']\n",
    "            start_time = item['start']\n",
    "\n",
    "            words = text.split()\n",
    "\n",
    "            if word_count + len(words) <= chunk_size:\n",
    "                current_chunk_text += \" \" + text\n",
    "                word_count += len(words)\n",
    "                if current_chunk_start_time is None:\n",
    "                    current_chunk_start_time = start_time\n",
    "            else:\n",
    "                transcript_chunks.append({'text': current_chunk_text.strip(), 'start_time': current_chunk_start_time})\n",
    "                current_chunk_text = text\n",
    "                current_chunk_start_time = start_time\n",
    "                word_count = len(words)\n",
    "\n",
    "        if current_chunk_text:\n",
    "            transcript_chunks.append({'text': current_chunk_text, 'start_time': current_chunk_start_time})\n",
    "\n",
    "        all_chunks[key] = transcript_chunks\n",
    "\n",
    "    return all_chunks"
   ]
  },
  {
   "cell_type": "code",
   "execution_count": 56,
   "metadata": {},
   "outputs": [],
   "source": [
    "import json\n",
    "\n",
    "with open('data/misc_transcripts.json', 'r') as f:\n",
    "    data = json.load(f)"
   ]
  },
  {
   "cell_type": "code",
   "execution_count": 68,
   "metadata": {},
   "outputs": [],
   "source": [
    "import glob\n",
    "import json\n",
    "directory_path = 'data'  # Update this to your directory\n",
    "json_pattern = '*.json'\n",
    "json_files = glob.glob(f\"data/chunked_*.json\")\n",
    "\n",
    "transcripts_text = []\n",
    "\n",
    "for jf in json_files:\n",
    "    with open(f'{jf}', 'r') as f:\n",
    "        data = json.load(f)\n",
    "    for youtube_id,texts in data.items():\n",
    "        for text in texts:\n",
    "            curr_text = text['text']\n",
    "            if len(curr_text.split()) <=100: continue\n",
    "            transcripts_text.append(curr_text)"
   ]
  },
  {
   "cell_type": "code",
   "execution_count": null,
   "metadata": {},
   "outputs": [],
   "source": []
  }
 ],
 "metadata": {
  "kernelspec": {
   "display_name": "Python 3",
   "language": "python",
   "name": "python3"
  },
  "language_info": {
   "codemirror_mode": {
    "name": "ipython",
    "version": 3
   },
   "file_extension": ".py",
   "mimetype": "text/x-python",
   "name": "python",
   "nbconvert_exporter": "python",
   "pygments_lexer": "ipython3",
   "version": "3.10.12"
  }
 },
 "nbformat": 4,
 "nbformat_minor": 2
}
